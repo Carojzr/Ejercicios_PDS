{
 "cells": [
  {
   "cell_type": "markdown",
   "id": "4c10ea06",
   "metadata": {},
   "source": [
    "# Ejercicio clase 7\n",
    "## Transformada Z\n"
   ]
  },
  {
   "cell_type": "markdown",
   "id": "b5b4d7a2",
   "metadata": {},
   "source": [
    "## Librerias "
   ]
  },
  {
   "cell_type": "code",
   "execution_count": 2,
   "id": "274b311e",
   "metadata": {},
   "outputs": [],
   "source": [
    "import numpy as np\n",
    "import sympy as sym\n",
    "import matplotlib.pyplot as plt\n",
    "%matplotlib inline"
   ]
  },
  {
   "cell_type": "markdown",
   "id": "05e2be95",
   "metadata": {},
   "source": [
    "**Resolver**\n",
    "$x[n] = (\\frac{1}{4})^{-n}u(n)$"
   ]
  },
  {
   "cell_type": "code",
   "execution_count": 12,
   "id": "76490c66",
   "metadata": {},
   "outputs": [
    {
     "name": "stdout",
     "output_type": "stream",
     "text": [
      "El resultado de la trasnformada Z es: \n"
     ]
    },
    {
     "data": {
      "text/latex": [
       "$\\displaystyle \\begin{cases} \\frac{1}{1 - \\frac{4}{z}} & \\text{for}\\: \\frac{1}{\\left|{z}\\right|} < \\frac{1}{4} \\\\\\sum_{n=0}^{\\infty} 4^{n} z^{- n} & \\text{otherwise} \\end{cases}$"
      ],
      "text/plain": [
       "Piecewise((1/(1 - 4/z), 1/Abs(z) < 1/4), (Sum(4**n/z**n, (n, 0, oo)), True))"
      ]
     },
     "execution_count": 12,
     "metadata": {},
     "output_type": "execute_result"
    }
   ],
   "source": [
    "#Codigo para transformada Z\n",
    "z = sym.symbols('z')\n",
    "n = sym.symbols('n', positive=True)\n",
    "u = sym.Heaviside(n)\n",
    "xn = (sym.Rational(1/4)**(-n))*u\n",
    "mul = xn*z**(-n)\n",
    "\n",
    "xz = sym.summation(mul,(n,0,sym.oo))\n",
    "print('El resultado de la trasnformada Z es: ')\n",
    "xz"
   ]
  },
  {
   "cell_type": "markdown",
   "id": "2e0980b0",
   "metadata": {},
   "source": [
    "**Resolver** \n",
    "$x[n] = (\\frac{1}{2})^{n-1}u(n-1)$"
   ]
  },
  {
   "cell_type": "code",
   "execution_count": 19,
   "id": "4a35aab3",
   "metadata": {},
   "outputs": [
    {
     "name": "stdout",
     "output_type": "stream",
     "text": [
      "El resultado de la trasnformada Z es: \n"
     ]
    },
    {
     "data": {
      "text/latex": [
       "$\\displaystyle 2 \\left(\\begin{cases} \\frac{1}{2 z \\left(1 - \\frac{1}{2 z}\\right)} & \\text{for}\\: \\frac{1}{\\left|{z}\\right|} < 2 \\\\\\sum_{n=0}^{\\infty} 2^{- n} z^{- n} \\theta\\left(n - 1\\right) & \\text{otherwise} \\end{cases}\\right)$"
      ],
      "text/plain": [
       "2*Piecewise((1/(2*z*(1 - 1/(2*z))), 1/Abs(z) < 2), (Sum(Heaviside(n - 1)/(2**n*z**n), (n, 0, oo)), True))"
      ]
     },
     "execution_count": 19,
     "metadata": {},
     "output_type": "execute_result"
    }
   ],
   "source": [
    "z = sym.symbols('z')\n",
    "n = sym.symbols('n', positive=True)\n",
    "u = sym.Heaviside(n-1)\n",
    "xn = (sym.Rational(1/2)**(n-1))*u\n",
    "mul = xn*z**(-n)\n",
    "\n",
    "xz = sym.summation(mul,(n,0,sym.oo))\n",
    "print('El resultado de la trasnformada Z es: ')\n",
    "xz"
   ]
  }
 ],
 "metadata": {
  "kernelspec": {
   "display_name": "Python 3 (ipykernel)",
   "language": "python",
   "name": "python3"
  },
  "language_info": {
   "codemirror_mode": {
    "name": "ipython",
    "version": 3
   },
   "file_extension": ".py",
   "mimetype": "text/x-python",
   "name": "python",
   "nbconvert_exporter": "python",
   "pygments_lexer": "ipython3",
   "version": "3.9.13"
  }
 },
 "nbformat": 4,
 "nbformat_minor": 5
}
